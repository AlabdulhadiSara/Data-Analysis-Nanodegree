{
 "cells": [
  {
   "cell_type": "code",
   "execution_count": 131,
   "metadata": {
    "collapsed": true
   },
   "outputs": [],
   "source": [
    "import csv\n",
    "from datetime import datetime\n",
    "import numpy as np\n",
    "import pandas as pd\n",
    "import random\n",
    "import re\n",
    "import os\n",
    "from IPython.display import display\n",
    "import matplotlib.pyplot as plt \n",
    "%matplotlib inline\n",
    "import seaborn as sns\n",
    "sns.set_context('talk')"
   ]
  },
  {
   "cell_type": "code",
   "execution_count": 132,
   "metadata": {
    "collapsed": false
   },
   "outputs": [
    {
     "data": {
      "image/png": "[encoded data removed]",
      "text/plain": [
       "<matplotlib.figure.Figure at 0x2bbf2b55630>"
      ]
     },
     "metadata": {},
     "output_type": "display_data"
    }
   ],
   "source": [
    "with open('card_draw.csv','r') as f:\n",
    "    card_deck = pd.read_csv('card_draw.csv')\n",
    "bins = [0,1,2,3,4,5,6,7,8,9,10] \n",
    "counts = np.bincount(card_deck['score'])\n",
    "fig, ax = plt.subplots()\n",
    "ax.bar(range(1,len(counts)), counts[1:], width=0.9, align='center')\n",
    "ax.set(xticks=range(11), xlim=[0, 11])\n",
    "plt.show()\n"
   ]
  },
  {
   "cell_type": "code",
   "execution_count": 133,
   "metadata": {
    "collapsed": false
   },
   "outputs": [
    {
     "data": {
      "text/plain": [
       "6.538461538461538"
      ]
     },
     "execution_count": 133,
     "metadata": {},
     "output_type": "execute_result"
    }
   ],
   "source": [
    "card_deck['score'].mean()"
   ]
  },
  {
   "cell_type": "code",
   "execution_count": 134,
   "metadata": {
    "collapsed": false
   },
   "outputs": [
    {
     "data": {
      "text/plain": [
       "7.0"
      ]
     },
     "execution_count": 134,
     "metadata": {},
     "output_type": "execute_result"
    }
   ],
   "source": [
    "card_deck['score'].median()"
   ]
  },
  {
   "cell_type": "code",
   "execution_count": 135,
   "metadata": {
    "collapsed": false
   },
   "outputs": [
    {
     "data": {
      "text/plain": [
       "3.1836687337621736"
      ]
     },
     "execution_count": 135,
     "metadata": {},
     "output_type": "execute_result"
    }
   ],
   "source": [
    "card_deck['score'].std()"
   ]
  },
  {
   "cell_type": "code",
   "execution_count": 136,
   "metadata": {
    "collapsed": false
   },
   "outputs": [],
   "source": [
    "def gen_value(x):\n",
    "    return random.randint(1,13)"
   ]
  },
  {
   "cell_type": "code",
   "execution_count": 137,
   "metadata": {
    "collapsed": true
   },
   "outputs": [],
   "source": [
    "def gen_card_score(x):\n",
    "    card_value = gen_value(x)\n",
    "    if card_value == 1:\n",
    "        return 'A'\n",
    "    elif card_value == 11:\n",
    "        return 'J'\n",
    "    elif card_value == 12:\n",
    "        return 'Q'\n",
    "    elif card_value == 13:\n",
    "        return 'K'\n",
    "    else:\n",
    "        return str(card_value)"
   ]
  },
  {
   "cell_type": "code",
   "execution_count": 138,
   "metadata": {
    "collapsed": true
   },
   "outputs": [],
   "source": [
    "def gen_card_suit(x):\n",
    "    x = random.randint(1,4)\n",
    "    if x == 1:\n",
    "        return 'h'\n",
    "    if x == 2:\n",
    "        return 'c'\n",
    "    if x == 3:\n",
    "        return 'd'\n",
    "    if x == 4:\n",
    "        return 's'"
   ]
  },
  {
   "cell_type": "code",
   "execution_count": 139,
   "metadata": {
    "collapsed": true
   },
   "outputs": [],
   "source": [
    "def gen_card_draw(x):\n",
    "    return gen_card_score(x) + gen_card_suit(x)"
   ]
  },
  {
   "cell_type": "code",
   "execution_count": 140,
   "metadata": {
    "collapsed": true
   },
   "outputs": [],
   "source": [
    "try:\n",
    "    os.remove('card_draws_genrerated')\n",
    "except :\n",
    "    print('No file to delete')\n",
    "f_out = 'card_draws_genrerated'"
   ]
  },
  {
   "cell_type": "code",
   "execution_count": 141,
   "metadata": {
    "collapsed": true
   },
   "outputs": [],
   "source": [
    "number_of_draws = 500000\n",
    "\n",
    "with open('card_draws_genrerated', 'w') as f_out:\n",
    "    out_writer = csv.writer(f_out)\n",
    "    out_writer.writerow(['draw'])\n",
    "    for x in range(number_of_draws):\n",
    "        card_1 = gen_card_draw(x)\n",
    "        card_2 = gen_card_draw(x)\n",
    "        while card_1 == card_2:\n",
    "            card_2 = gen_card_draw(x)\n",
    "        card_3 = gen_card_draw(x)\n",
    "        while card_1 == card_3 or card_2 == card_3:\n",
    "            card_3 = gen_card_draw(x)\n",
    "        cards_drawn = card_1 +' '+card_2+' '+card_3 \n",
    "        out_writer.writerow([cards_drawn])"
   ]
  },
  {
   "cell_type": "code",
   "execution_count": 142,
   "metadata": {
    "collapsed": true
   },
   "outputs": [],
   "source": [
    "def card_value_from_score(card_value):\n",
    "    if card_value == 'K':\n",
    "        return 10\n",
    "    if card_value == 'Q':\n",
    "        return 10\n",
    "    if card_value == 'J':\n",
    "        return 10\n",
    "    if card_value == 'A':\n",
    "        return 1\n",
    "    return int(card_value)"
   ]
  },
  {
   "cell_type": "code",
   "execution_count": 143,
   "metadata": {
    "collapsed": true
   },
   "outputs": [],
   "source": [
    "def card_suit(row, card):\n",
    "    card_suit = re.findall('[hcds]', row['draw'].split()[card-1])\n",
    "    return card_suit[0]"
   ]
  },
  {
   "cell_type": "code",
   "execution_count": 144,
   "metadata": {
    "collapsed": true
   },
   "outputs": [],
   "source": [
    "def card_score(row, card):\n",
    "    card_score = re.findall('[0-9,A,J,K,Q]+', row['draw'].split()[card-1])\n",
    "    return card_score[0]"
   ]
  },
  {
   "cell_type": "code",
   "execution_count": 145,
   "metadata": {
    "collapsed": true
   },
   "outputs": [],
   "source": [
    "def card_value(row, card):\n",
    "    card_score = re.findall('[0-9,A,J,K,Q]+', row['draw'].split()[card-1])[0]\n",
    "    card_value = card_value_from_score(card_score)\n",
    "    return card_value"
   ]
  },
  {
   "cell_type": "code",
   "execution_count": 146,
   "metadata": {
    "collapsed": true
   },
   "outputs": [],
   "source": [
    "def total_card_value(row):\n",
    "    total_card_value = row['card_1_value'] + row['card_2_value'] + row['card_3_value']\n",
    "    return total_card_value"
   ]
  },
  {
   "cell_type": "code",
   "execution_count": 147,
   "metadata": {
    "collapsed": false
   },
   "outputs": [
    {
     "data": {
      "text/html": [
       "<div>\n",
       "<table border=\"1\" class=\"dataframe\">\n",
       "  <thead>\n",
       "    <tr style=\"text-align: right;\">\n",
       "      <th></th>\n",
       "      <th>draw</th>\n",
       "    </tr>\n",
       "  </thead>\n",
       "  <tbody>\n",
       "    <tr>\n",
       "      <th>0</th>\n",
       "      <td>Ks 8c As</td>\n",
       "    </tr>\n",
       "    <tr>\n",
       "      <th>1</th>\n",
       "      <td>Kh Js 10s</td>\n",
       "    </tr>\n",
       "    <tr>\n",
       "      <th>2</th>\n",
       "      <td>6c Jc 7d</td>\n",
       "    </tr>\n",
       "  </tbody>\n",
       "</table>\n",
       "</div>"
      ],
      "text/plain": [
       "        draw\n",
       "0   Ks 8c As\n",
       "1  Kh Js 10s\n",
       "2   6c Jc 7d"
      ]
     },
     "metadata": {},
     "output_type": "display_data"
    }
   ],
   "source": [
    "card_data_max = pd.read_csv('card_draws_genrerated')\n",
    "display(card_data_max.head(3))\n",
    "\n",
    "card_data_max['card_1_suit'] = card_data_max.apply(card_suit, card=1, axis=1)\n",
    "card_data_max['card_2_suit'] = card_data_max.apply(card_suit, card=2, axis=1)\n",
    "card_data_max['card_3_suit'] = card_data_max.apply(card_suit, card=3, axis=1)\n",
    "\n",
    "card_data_max['card_1_score'] = card_data_max.apply(card_score, card=1, axis=1)\n",
    "card_data_max['card_2_score'] = card_data_max.apply(card_score, card=2, axis=1)\n",
    "card_data_max['card_3_score'] = card_data_max.apply(card_score, card=3, axis=1)\n",
    "\n",
    "card_data_max['card_1_value'] = card_data_max.apply(card_value, card=1, axis=1)\n",
    "card_data_max['card_2_value'] = card_data_max.apply(card_value, card=2, axis=1)\n",
    "card_data_max['card_3_value'] = card_data_max.apply(card_value, card=3, axis=1)\n",
    "\n",
    "card_data_max['total_card_value'] = card_data_max.apply(total_card_value, axis=1)"
   ]
  },
  {
   "cell_type": "code",
   "execution_count": 148,
   "metadata": {
    "collapsed": false
   },
   "outputs": [
    {
     "data": {
      "text/plain": [
       "31"
      ]
     },
     "metadata": {},
     "output_type": "display_data"
    },
    {
     "data": {
      "image/png": "[encoded data removed]",
      "text/plain": [
       "<matplotlib.figure.Figure at 0x2bbf2b58780>"
      ]
     },
     "metadata": {},
     "output_type": "display_data"
    }
   ],
   "source": [
    "counts = np.bincount(card_data_max['total_card_value'])\n",
    "display(len(counts))\n",
    "number_draws = len(card_data_max)\n",
    "fig, ax = plt.subplots()\n",
    "ax.bar(range(3,len(counts)), counts[3:], width=0.9, align='center')\n",
    "ax.set(xticks=range(31), xlim=[3,31])\n",
    "plt.title('Histogram of frequency of scores from three card draws (n=' + str(number_draws) +')')\n",
    "plt.xlabel('Total 3 card scores (K, Q, J = 10 , A =1)')\n",
    "plt.ylabel('Frequency of scores')\n",
    "plt.show()"
   ]
  }
 ],
 "metadata": {
  "kernelspec": {
   "display_name": "Python 3",
   "language": "python",
   "name": "python3"
  },
  "language_info": {
   "codemirror_mode": {
    "name": "ipython",
    "version": 3
   },
   "file_extension": ".py",
   "mimetype": "text/x-python",
   "name": "python",
   "nbconvert_exporter": "python",
   "pygments_lexer": "ipython3",
   "version": "3.6.0"
  }
 },
 "nbformat": 4,
 "nbformat_minor": 2
}
