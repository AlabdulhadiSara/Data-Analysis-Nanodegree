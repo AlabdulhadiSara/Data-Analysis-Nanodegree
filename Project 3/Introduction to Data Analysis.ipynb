{
 "cells": [
  {
   "cell_type": "markdown",
   "metadata": {},
   "source": [
    "# Titanic Analysis"
   ]
  },
  {
   "cell_type": "markdown",
   "metadata": {},
   "source": [
    "TITANIC was a huge ship that sank in the early hours of April 15, 1912. About 2240 passengers were traveling on Titanic, but only 800 passengers survived which make it one of the deadliest commercial peacetime maritime disasters in modern history.\n",
    "\n",
    "What are some possible reasons helped these passengers survived? Why not others? "
   ]
  },
  {
   "cell_type": "code",
   "execution_count": 1,
   "metadata": {
    "collapsed": false
   },
   "outputs": [],
   "source": [
    "import csv\n",
    "from datetime import datetime\n",
    "import numpy as np\n",
    "import pandas as pd\n",
    "from IPython.display import display\n",
    "import matplotlib.pyplot as plt \n",
    "%matplotlib inline"
   ]
  },
  {
   "cell_type": "code",
   "execution_count": 2,
   "metadata": {
    "collapsed": true
   },
   "outputs": [],
   "source": [
    "with open('titanic-data.csv', 'r') as f:\n",
    "    reader = csv.reader(f)"
   ]
  },
  {
   "cell_type": "code",
   "execution_count": 3,
   "metadata": {
    "collapsed": false
   },
   "outputs": [
    {
     "data": {
      "text/html": [
       "<div>\n",
       "<table border=\"1\" class=\"dataframe\">\n",
       "  <thead>\n",
       "    <tr style=\"text-align: right;\">\n",
       "      <th></th>\n",
       "      <th>PassengerId</th>\n",
       "      <th>Survived</th>\n",
       "      <th>Pclass</th>\n",
       "      <th>Name</th>\n",
       "      <th>Sex</th>\n",
       "      <th>Age</th>\n",
       "      <th>SibSp</th>\n",
       "      <th>Parch</th>\n",
       "      <th>Ticket</th>\n",
       "      <th>Fare</th>\n",
       "      <th>Cabin</th>\n",
       "      <th>Embarked</th>\n",
       "    </tr>\n",
       "  </thead>\n",
       "  <tbody>\n",
       "    <tr>\n",
       "      <th>0</th>\n",
       "      <td>1</td>\n",
       "      <td>0</td>\n",
       "      <td>3</td>\n",
       "      <td>Braund, Mr. Owen Harris</td>\n",
       "      <td>male</td>\n",
       "      <td>22.0</td>\n",
       "      <td>1</td>\n",
       "      <td>0</td>\n",
       "      <td>A/5 21171</td>\n",
       "      <td>7.2500</td>\n",
       "      <td>NaN</td>\n",
       "      <td>S</td>\n",
       "    </tr>\n",
       "    <tr>\n",
       "      <th>1</th>\n",
       "      <td>2</td>\n",
       "      <td>1</td>\n",
       "      <td>1</td>\n",
       "      <td>Cumings, Mrs. John Bradley (Florence Briggs Th...</td>\n",
       "      <td>female</td>\n",
       "      <td>38.0</td>\n",
       "      <td>1</td>\n",
       "      <td>0</td>\n",
       "      <td>PC 17599</td>\n",
       "      <td>71.2833</td>\n",
       "      <td>C85</td>\n",
       "      <td>C</td>\n",
       "    </tr>\n",
       "    <tr>\n",
       "      <th>2</th>\n",
       "      <td>3</td>\n",
       "      <td>1</td>\n",
       "      <td>3</td>\n",
       "      <td>Heikkinen, Miss. Laina</td>\n",
       "      <td>female</td>\n",
       "      <td>26.0</td>\n",
       "      <td>0</td>\n",
       "      <td>0</td>\n",
       "      <td>STON/O2. 3101282</td>\n",
       "      <td>7.9250</td>\n",
       "      <td>NaN</td>\n",
       "      <td>S</td>\n",
       "    </tr>\n",
       "    <tr>\n",
       "      <th>3</th>\n",
       "      <td>4</td>\n",
       "      <td>1</td>\n",
       "      <td>1</td>\n",
       "      <td>Futrelle, Mrs. Jacques Heath (Lily May Peel)</td>\n",
       "      <td>female</td>\n",
       "      <td>35.0</td>\n",
       "      <td>1</td>\n",
       "      <td>0</td>\n",
       "      <td>113803</td>\n",
       "      <td>53.1000</td>\n",
       "      <td>C123</td>\n",
       "      <td>S</td>\n",
       "    </tr>\n",
       "    <tr>\n",
       "      <th>4</th>\n",
       "      <td>5</td>\n",
       "      <td>0</td>\n",
       "      <td>3</td>\n",
       "      <td>Allen, Mr. William Henry</td>\n",
       "      <td>male</td>\n",
       "      <td>35.0</td>\n",
       "      <td>0</td>\n",
       "      <td>0</td>\n",
       "      <td>373450</td>\n",
       "      <td>8.0500</td>\n",
       "      <td>NaN</td>\n",
       "      <td>S</td>\n",
       "    </tr>\n",
       "  </tbody>\n",
       "</table>\n",
       "</div>"
      ],
      "text/plain": [
       "   PassengerId  Survived  Pclass  \\\n",
       "0            1         0       3   \n",
       "1            2         1       1   \n",
       "2            3         1       3   \n",
       "3            4         1       1   \n",
       "4            5         0       3   \n",
       "\n",
       "                                                Name     Sex   Age  SibSp  \\\n",
       "0                            Braund, Mr. Owen Harris    male  22.0      1   \n",
       "1  Cumings, Mrs. John Bradley (Florence Briggs Th...  female  38.0      1   \n",
       "2                             Heikkinen, Miss. Laina  female  26.0      0   \n",
       "3       Futrelle, Mrs. Jacques Heath (Lily May Peel)  female  35.0      1   \n",
       "4                           Allen, Mr. William Henry    male  35.0      0   \n",
       "\n",
       "   Parch            Ticket     Fare Cabin Embarked  \n",
       "0      0         A/5 21171   7.2500   NaN        S  \n",
       "1      0          PC 17599  71.2833   C85        C  \n",
       "2      0  STON/O2. 3101282   7.9250   NaN        S  \n",
       "3      0            113803  53.1000  C123        S  \n",
       "4      0            373450   8.0500   NaN        S  "
      ]
     },
     "execution_count": 3,
     "metadata": {},
     "output_type": "execute_result"
    }
   ],
   "source": [
    "sample = pd.read_csv('titanic-data.csv')\n",
    "sample.head()"
   ]
  },
  {
   "cell_type": "code",
   "execution_count": 4,
   "metadata": {
    "collapsed": false
   },
   "outputs": [
    {
     "data": {
      "image/png": "[encoded data removed]",
      "text/plain": [
       "<matplotlib.figure.Figure at 0x19889d2a390>"
      ]
     },
     "metadata": {},
     "output_type": "display_data"
    }
   ],
   "source": [
    "\n",
    "first_class = sample[sample.Pclass==1]\n",
    "first_all = first_class.Pclass.sum()\n",
    "first_survived = first_class[first_class.Survived==1].Survived.sum()\n",
    "first_dead = first_all - first_survived\n",
    "labels = 'dead','survived'\n",
    "slices = first_dead , first_survived\n",
    "colors = ['slategrey','skyblue']\n",
    "plt.subplot(131)\n",
    "plt.gcf().set_size_inches(15,5)\n",
    "plt.pie(slices, labels=labels, colors=colors, autopct='%1.0f%%')\n",
    "plt.title('First Class Passengers')\n",
    "plt.axis('equal')\n",
    "\n",
    "second_class = sample[sample.Pclass==2]\n",
    "second_all = second_class.Pclass.sum()\n",
    "second_survived = second_class[second_class.Survived==1].Survived.sum()\n",
    "second_dead = second_all - second_survived\n",
    "labels = 'dead','survived'\n",
    "slices = second_dead , second_survived\n",
    "colors = ['slategrey','skyblue']\n",
    "plt.subplot(132)\n",
    "plt.pie(slices, labels=labels, colors=colors, autopct='%1.0f%%')\n",
    "plt.title('Second Class Passengers')\n",
    "plt.axis('equal')\n",
    "\n",
    "\n",
    "third_class = sample[sample.Pclass==3]\n",
    "third_all = third_class.Pclass.sum()\n",
    "third_survived = third_class[third_class.Survived==1].Survived.sum()\n",
    "third_dead = third_all - third_survived\n",
    "labels = 'dead','survived'\n",
    "slices = third_dead , third_survived\n",
    "colors = ['slategrey','skyblue']\n",
    "plt.subplot(133)\n",
    "plt.pie(slices, labels=labels, colors=colors, autopct='%1.0f%%')\n",
    "plt.title('Third Class Passengers')\n",
    "plt.axis('equal')\n",
    "\n",
    "plt.show()\n"
   ]
  },
  {
   "cell_type": "markdown",
   "metadata": {},
   "source": [
    "These pie charts make it clear that there is a correlation between the class passengers were traveling on and the chance of survival. 63% of first class passengers survived whereas on the third class only 8% of the passengers survived!\n"
   ]
  },
  {
   "cell_type": "code",
   "execution_count": 5,
   "metadata": {
    "collapsed": false,
    "scrolled": false
   },
   "outputs": [
    {
     "data": {
      "image/png": "[encoded data removed]",
      "text/plain": [
       "<matplotlib.figure.Figure at 0x19889e6bbe0>"
      ]
     },
     "metadata": {},
     "output_type": "display_data"
    }
   ],
   "source": [
    "female = sample[sample.Sex=='female']\n",
    "female_all = len(female.axes[0])\n",
    "female_survived = female[female.Survived==1].Survived.sum()\n",
    "female_dead = female_all - female_survived\n",
    "\n",
    "male = sample[sample.Sex=='male']\n",
    "male_all = len(male.axes[0])\n",
    "male_survived = male[male.Survived==1].Survived.sum()\n",
    "male_dead = male_all - male_survived\n",
    "\n",
    "bar_width = 0.25\n",
    "num_bins = 2\n",
    "bar1 = [female_survived, male_survived]\n",
    "bar2 = [female_dead, male_dead]\n",
    "indices = np.arange(len(bar1))\n",
    "\n",
    "plt.bar(indices, bar1, width = bar_width, color='skyblue', label = 'Survived')\n",
    "plt.bar(indices+bar_width, bar2, bar_width, color='slategrey', label= 'dead')\n",
    "plt.xticks(indices+bar_width*0.5 , ('Female', 'Male'))\n",
    "plt.legend()\n",
    "plt.grid(axis='y')\n",
    "plt.title('Survived Female vs. Survived Male')\n",
    "plt.xlabel('gender')\n",
    "plt.ylabel('number of passengers')\n",
    "plt.show()"
   ]
  },
  {
   "cell_type": "markdown",
   "metadata": {},
   "source": [
    "There is a noticable difference between the number of survived male and female as well! Approximately half of female passengers survived; however, not even quarter of male passengers survived.\n"
   ]
  },
  {
   "cell_type": "code",
   "execution_count": 6,
   "metadata": {
    "collapsed": false
   },
   "outputs": [
    {
     "data": {
      "image/png": "[encoded data removed]",
      "text/plain": [
       "<matplotlib.figure.Figure at 0x1988a340940>"
      ]
     },
     "metadata": {},
     "output_type": "display_data"
    }
   ],
   "source": [
    "mean = sample['Age'].mean()\n",
    "clean_sample_age = sample.fillna({'Age': mean})\n",
    "survived_passengers = clean_sample_age[clean_sample_age.Survived==1]\n",
    "dead_passengers = clean_sample_age[clean_sample_age.Survived==0]\n",
    "bins = [0, 20, 40, 60, 80, 100]\n",
    "indices1 =[survived_passengers.Age]\n",
    "indices2 =[dead_passengers.Age]\n",
    "plt.hist(indices2, bins, histtype='bar', stacked=True, rwidth=1, color= 'slategrey', label = 'Dead')\n",
    "plt.hist(indices1, bins, histtype='bar', stacked=True, rwidth=1,color= 'skyblue', label = 'Survived')\n",
    "plt.title('Ages of Survived & dead Passengers')\n",
    "plt.xlabel('Age of passenger')\n",
    "plt.ylabel('number of passengers')\n",
    "plt.legend()\n",
    "plt.grid(axis='y')\n",
    "plt.show()\n",
    "\n"
   ]
  },
  {
   "cell_type": "raw",
   "metadata": {
    "collapsed": false
   },
   "source": [
    "To do the above analysis about the correlation between passenger's age and their chance of survival, I needed to handle some missing values for passenger's ages. To do so, I have generated the mean of ages to these empty cells. This approach helped me to take every passeneger in this data into account."
   ]
  },
  {
   "cell_type": "markdown",
   "metadata": {
    "collapsed": false
   },
   "source": [
    "The above histogram represents the number of dead and survived passengers depending on thier ages. Although most passengers were from 20-40 years old, they have the highest percentage of death."
   ]
  },
  {
   "cell_type": "markdown",
   "metadata": {},
   "source": [
    "# conclusion\n",
    "In conclusion, although there was a correlation between chance of survival and ticket class, there were many other factors that might affect passenger's chance of survival such as gender and age. However, since this is a sample of the overall data and does not have information about crew, we are not sure if this sample is really representative or not! This is a limitation though it is probably representative.  "
   ]
  }
 ],
 "metadata": {
  "kernelspec": {
   "display_name": "Python 3",
   "language": "python",
   "name": "python3"
  },
  "language_info": {
   "codemirror_mode": {
    "name": "ipython",
    "version": 3
   },
   "file_extension": ".py",
   "mimetype": "text/x-python",
   "name": "python",
   "nbconvert_exporter": "python",
   "pygments_lexer": "ipython3",
   "version": "3.6.0"
  }
 },
 "nbformat": 4,
 "nbformat_minor": 2
}
